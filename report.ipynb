{
 "cells": [
  {
   "cell_type": "code",
   "execution_count": 1,
   "metadata": {
    "ExecuteTime": {
     "end_time": "2024-11-28T13:42:03.077879Z",
     "start_time": "2024-11-28T13:42:00.669532Z"
    }
   },
   "outputs": [
    {
     "data": {
      "text/plain": [
       "Node 6ca1ca45-4524-41eb-8cc4-fb023f64b9d0"
      ]
     },
     "execution_count": 1,
     "metadata": {},
     "output_type": "execute_result"
    }
   ],
   "source": [
    "from tdmclient import ClientAsync\n",
    "\n",
    "from global_navigation import GlobalNavigation\n",
    "\n",
    "client = ClientAsync()\n",
    "node = await client.wait_for_node()\n",
    "await node.lock()"
   ]
  },
  {
   "cell_type": "code",
   "execution_count": 2,
   "metadata": {
    "ExecuteTime": {
     "end_time": "2024-11-28T15:15:54.073104Z",
     "start_time": "2024-11-28T15:15:52.835867Z"
    }
   },
   "outputs": [],
   "source": [
    "from Vision import Vision, show_many_img\n",
    "import time\n",
    "from motion_control import MotionControl\n",
    "from robot_api import Thymio\n",
    "from global_navigation import GlobalNavigation\n",
    "import numpy as np"
   ]
  },
  {
   "cell_type": "code",
   "execution_count": 3,
   "metadata": {
    "ExecuteTime": {
     "end_time": "2024-11-28T13:24:09.838201Z",
     "start_time": "2024-11-28T13:24:09.815115Z"
    }
   },
   "outputs": [
    {
     "name": "stdout",
     "output_type": "stream",
     "text": [
      "Caméra initialisée sur le port 4\n"
     ]
    }
   ],
   "source": [
    "#create vision module object\n",
    "visio = Vision()\n",
    "visio.begin()"
   ]
  },
  {
   "cell_type": "markdown",
   "metadata": {},
   "source": []
  },
  {
   "cell_type": "code",
   "execution_count": 4,
   "metadata": {},
   "outputs": [
    {
     "name": "stderr",
     "output_type": "stream",
     "text": [
      "Exception in thread Thread-5:\n",
      "Traceback (most recent call last):\n",
      "  File \"/home/epuck/.pyenv/versions/3.10.13/lib/python3.10/threading.py\", line 1016, in _bootstrap_inner\n",
      "    self.run()\n",
      "  File \"/home/epuck/Documents/MoBot/Exercises/Projet/MICRO452_Mobile_Robots/Vision.py\", line 509, in run\n",
      "    self.vision_module.julien_main(frame)\n",
      "  File \"/home/epuck/Documents/MoBot/Exercises/Projet/MICRO452_Mobile_Robots/Vision.py\", line 477, in julien_main\n",
      "    top_view_img, four_point_matrix = self.four_point_transform(img,corners)\n",
      "  File \"/home/epuck/Documents/MoBot/Exercises/Projet/MICRO452_Mobile_Robots/Vision.py\", line 325, in four_point_transform\n",
      "    M = cv2.getPerspectiveTransform(pts.astype('float32'), dst)\n",
      "cv2.error: OpenCV(4.10.0) /io/opencv/modules/imgproc/src/imgwarp.cpp:3624: error: (-215:Assertion failed) src.checkVector(2, CV_32F) == 4 && dst.checkVector(2, CV_32F) == 4 in function 'getPerspectiveTransform'\n",
      "\n"
     ]
    },
    {
     "ename": "KeyboardInterrupt",
     "evalue": "",
     "output_type": "error",
     "traceback": [
      "\u001b[0;31m---------------------------------------------------------------------------\u001b[0m",
      "\u001b[0;31mKeyboardInterrupt\u001b[0m                         Traceback (most recent call last)",
      "Cell \u001b[0;32mIn[4], line 9\u001b[0m\n\u001b[1;32m      7\u001b[0m \u001b[38;5;28;01mwhile\u001b[39;00m \u001b[38;5;129;01mnot\u001b[39;00m (thymio \u001b[38;5;129;01mand\u001b[39;00m goal \u001b[38;5;129;01mand\u001b[39;00m obstacles):\n\u001b[1;32m      8\u001b[0m     _thymio, _goal, _obstacles \u001b[38;5;241m=\u001b[39m visio\u001b[38;5;241m.\u001b[39mget_thymio_goal_and_obstacles()\n\u001b[0;32m----> 9\u001b[0m     \u001b[43mtime\u001b[49m\u001b[38;5;241;43m.\u001b[39;49m\u001b[43msleep\u001b[49m\u001b[43m(\u001b[49m\u001b[38;5;241;43m0.2\u001b[39;49m\u001b[43m)\u001b[49m\n\u001b[1;32m     10\u001b[0m     \u001b[38;5;28;01mif\u001b[39;00m _thymio : \n\u001b[1;32m     11\u001b[0m         thymio \u001b[38;5;241m=\u001b[39m _thymio\n",
      "\u001b[0;31mKeyboardInterrupt\u001b[0m: "
     ]
    }
   ],
   "source": [
    "\n",
    "global_nav = GlobalNavigation()\n",
    "Thymio = Thymio(node, client)\n",
    "motion_control = MotionControl(Thymio)\n",
    "\n",
    "thymio, goal, obstacles = [],[],[]\n",
    "\n",
    "while not (thymio and goal and obstacles):\n",
    "    _thymio, _goal, _obstacles = visio.get_thymio_goal_and_obstacles()\n",
    "    time.sleep(0.2)\n",
    "    if _thymio : \n",
    "        thymio = _thymio\n",
    "    if _goal :\n",
    "        goal = _goal\n",
    "    if _obstacles :\n",
    "        obstacles = _obstacles\n",
    "\n",
    "print(\"everything ok to start\")\n",
    "\n",
    "try:\n",
    "    while True:\n",
    "        _thymio, _goal, _obstacles = visio.get_thymio_goal_and_obstacles()\n",
    "        if _thymio : \n",
    "            thymio = _thymio\n",
    "        if _goal :\n",
    "            goal = _goal\n",
    "        if _obstacles :\n",
    "            obstacles = _obstacles\n",
    "\n",
    "        path, _, _ = global_nav.dijkstra(thymio, goal, obstacles)\n",
    "        visio.analysis.path = path\n",
    "        #path.pop(0)\n",
    "        goal_point = path[1]\n",
    "        print(\"liste des objectifs\", path)\n",
    "        motion_control.obstacle_avoidance()\n",
    "        if motion_control.path_tracking(thymio, goal_point):\n",
    "            print(\"objectif suivant atteint\")\n",
    "            path.pop(0)\n",
    "            if len(path) == 1:\n",
    "                motion_control.stop_motor()\n",
    "                break\n",
    "        #thymio, goal, obstacles = visio.get_thymio_goal_and_obstacles()\n",
    "        time.sleep(0.5)\n",
    "except KeyboardInterrupt:\n",
    "    print(\"Stop the program\")\n",
    "finally:\n",
    "    visio.stop()\n",
    "    print(\"Program finishes\")"
   ]
  },
  {
   "cell_type": "code",
   "execution_count": null,
   "metadata": {},
   "outputs": [],
   "source": [
    "#path.pop(0)\n",
    "#goal_point = path[1]#\n",
    "\n",
    "#try:\n",
    "#    while True:\n",
    "#        thymio, goal, obstacles = visio.get_thymio_goal_and_obstacles()\n",
    "#        path, _, _ = global_nav.dijkstra(thymio, goal, obstacles)\n",
    "#        visio.analysis.path = path\n",
    "#        goal_point = path[1]\n",
    "#        motion_control.obstacle_avoidance()\n",
    "#        if motion_control.path_tracking(thymio, goal_point):\n",
    "#            path.pop(0)\n",
    "#            if not path:\n",
    "#                motion_control.stop_motor()\n",
    "#                break\n",
    "#            else:\n",
    "#                goal_point = path[0]\n",
    "#        thymio, goal, obstacles = visio.get_thymio_goal_and_obstacles()\n",
    "#        time.sleep(0.5)\n",
    "#except KeyboardInterrupt:\n",
    "#    print(\"Stop the program\")\n",
    "#finally:\n",
    "#    visio.stop()\n",
    "#    print(\"Program finishes\")"
   ]
  },
  {
   "cell_type": "code",
   "execution_count": null,
   "metadata": {},
   "outputs": [
    {
     "ename": "NameError",
     "evalue": "name 'motion_control' is not defined",
     "output_type": "error",
     "traceback": [
      "\u001b[0;31m---------------------------------------------------------------------------\u001b[0m",
      "\u001b[0;31mNameError\u001b[0m                                 Traceback (most recent call last)",
      "Cell \u001b[0;32mIn[3], line 1\u001b[0m\n\u001b[0;32m----> 1\u001b[0m \u001b[43mmotion_control\u001b[49m\u001b[38;5;241m.\u001b[39mset_motor_speed(\u001b[38;5;241m0\u001b[39m, \u001b[38;5;241m0\u001b[39m)\n\u001b[1;32m      2\u001b[0m \u001b[38;5;66;03m#test\u001b[39;00m\n",
      "\u001b[0;31mNameError\u001b[0m: name 'motion_control' is not defined"
     ]
    }
   ],
   "source": [
    "motion_control.set_motor_speed(0, 0)\n",
    "#test"
   ]
  },
  {
   "cell_type": "code",
   "execution_count": null,
   "metadata": {},
   "outputs": [],
   "source": []
  }
 ],
 "metadata": {
  "kernelspec": {
   "display_name": "Python 3",
   "language": "python",
   "name": "python3"
  },
  "language_info": {
   "codemirror_mode": {
    "name": "ipython",
    "version": 3
   },
   "file_extension": ".py",
   "mimetype": "text/x-python",
   "name": "python",
   "nbconvert_exporter": "python",
   "pygments_lexer": "ipython3",
   "version": "3.10.13"
  }
 },
 "nbformat": 4,
 "nbformat_minor": 2
}
