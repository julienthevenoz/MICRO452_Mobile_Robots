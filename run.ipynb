{
 "cells": [
  {
   "cell_type": "code",
   "execution_count": 1,
   "metadata": {},
   "outputs": [
    {
     "data": {
      "text/plain": [
       "Node d39ca52c-6d75-449e-96ee-13586c1312f5"
      ]
     },
     "execution_count": 1,
     "metadata": {},
     "output_type": "execute_result"
    }
   ],
   "source": [
    "# Connect with the thymio\n",
    "from tdmclient import ClientAsync\n",
    "from global_navigation import GlobalNavigation\n",
    "\n",
    "client = ClientAsync()\n",
    "node = await client.wait_for_node()\n",
    "await node.lock()"
   ]
  },
  {
   "cell_type": "code",
   "execution_count": 2,
   "metadata": {},
   "outputs": [],
   "source": [
    "from tdmclient import ClientAsync\n",
    "from global_navigation import GlobalNavigation\n",
    "\n",
    "# client = ClientAsync()\n",
    "# node = await client.wait_for_node()\n",
    "# await node.lock()\n",
    "\n",
    "from Vision import Vision, show_many_img\n",
    "import time\n",
    "from motion_control import MotionControl\n",
    "from robot_api import Thymio\n",
    "from global_navigation import GlobalNavigation\n",
    "import numpy as np\n",
    "from kalman_filter import KalmanFilter"
   ]
  },
  {
   "cell_type": "code",
   "execution_count": null,
   "metadata": {},
   "outputs": [],
   "source": [
    "#create vision module object\n",
    "visio = Vision()\n",
    "visio.begin()\n",
    "\n",
    "\"\"\"Point d'entrée principal\"\"\"\n",
    "global_nav = GlobalNavigation()\n",
    "Thymio = Thymio(node, client)\n",
    "motion_control = MotionControl(Thymio)\n",
    "kalman_filter =KalmanFilter()\n",
    "\n",
    "#path.pop(0)\n",
    "#goal_point = path[1]\n",
    "#print(goal_point)\n",
    "\n",
    "\n",
    "thymio, goal, obstacles = [],[],[]\n",
    "\n",
    "while not (thymio and goal and obstacles):\n",
    "    _thymio, _goal, _obstacles = visio.get_thymio_goal_and_obstacles()\n",
    "    time.sleep(0.2)\n",
    "    if _thymio : \n",
    "        thymio = _thymio\n",
    "    if _goal :\n",
    "        goal = _goal\n",
    "    if _obstacles :\n",
    "        obstacles = _obstacles\n",
    "\n",
    "print(\"everything ok to start\")\n",
    "\n",
    "\n",
    "try:\n",
    "    pre_variance = np.ones((3, 3))\n",
    "    pre_state = thymio\n",
    "    start_time = time.time()\n",
    "    while True:\n",
    "        _thymio, _goal, _obstacles = visio.get_thymio_goal_and_obstacles()\n",
    "        if _thymio : \n",
    "            thymio = _thymio\n",
    "        if _goal :\n",
    "            goal = _goal\n",
    "        if _obstacles :\n",
    "            obstacles = _obstacles\n",
    "\n",
    "        path, _, _ = global_nav.dijkstra(thymio, goal, obstacles)\n",
    "        visio.analysis.path = path\n",
    "        if path is not None:\n",
    "            goal_point = path[1]\n",
    "        else:\n",
    "            print(\"GOAL IS NONE !!!!!!!\")\n",
    "            continue\n",
    "        motion_control.obstacle_avoidance()\n",
    "        if motion_control.path_tracking(thymio, goal_point):\n",
    "           if not path:\n",
    "               break\n",
    "           else:\n",
    "               goal_point = path[0]\n",
    "        thymio, goal, obstacles = visio.get_thymio_goal_and_obstacles()\n",
    "        if not thymio:\n",
    "            thymio = [0, 0, 0]\n",
    "            kalman_filter.Q =  np.array([[1000, 0, 0],\n",
    "                                         [0, 1000, 0],\n",
    "                                         [0, 0, 1000]])\n",
    "        motor_speed = motion_control.get_motor_speed()\n",
    "        end_time = time.time()\n",
    "        time_step = end_time - start_time\n",
    "        start_time = time.time()\n",
    "        vl_displacement = motor_speed[0] * 0.417 * time_step * 0.563 # 600/1065\n",
    "        vr_displacement = motor_speed[1] * 0.417 * time_step * 0.446 # 300/673\n",
    "        kal_state, kal_variance = kalman_filter.estimate(pre_state, pre_variance, vl_displacement, vr_displacement, thymio)\n",
    "        visio.camera_feed.past_positions.append(kal_state[:2])\n",
    "        pre_state = kal_state\n",
    "        pre_variance = kal_variance\n",
    "        time.sleep(0.2)\n",
    "except KeyboardInterrupt:\n",
    "    print(\"Stop the program\")\n",
    "finally:\n",
    "    visio.stop()\n",
    "    print(\"Program finishes\")"
   ]
  }
 ],
 "metadata": {
  "kernelspec": {
   "display_name": "Python 3",
   "language": "python",
   "name": "python3"
  },
  "language_info": {
   "codemirror_mode": {
    "name": "ipython",
    "version": 3
   },
   "file_extension": ".py",
   "mimetype": "text/x-python",
   "name": "python",
   "nbconvert_exporter": "python",
   "pygments_lexer": "ipython3",
   "version": "3.10.12"
  }
 },
 "nbformat": 4,
 "nbformat_minor": 2
}
