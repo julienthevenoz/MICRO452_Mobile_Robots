{
 "cells": [
  {
   "cell_type": "markdown",
   "metadata": {},
   "source": [
    "# Report Basics of Mobile Robotics - 2024\n",
    "\n",
    "## Table of Contents\n",
    "0. [Introduction](#Introduction)\n",
    "1. [Setup](#Partie-1-:-Setup)\n",
    "    - 1.1 : Physical setup\n",
    "    - 1.2 : Code setup\n",
    "2. [Initial tuning](#Partie-2-:-Initial-tuning)\n",
    "    - 2.1 : Wheel speed (differential)\n",
    "3. [Vision](#Partie-2-:-Vision)\n",
    "    - 3.1 : Dynamic lighting adaptation\n",
    "    - 3.2 : Aruko markers\n",
    "        - 3.2.1 : Thymio and goal\n",
    "    - 3.2 : Map resizing\n",
    "4. [Kalmann](#Partie-3-:-Kalmann)\n",
    "    - 4.1 : Theory\n",
    "    - 4.2 : Implementation\n",
    "5. [Global path planning](#Partie-4-:-Global-path-planning)\n",
    "    - 5.1 : Dijkstra\n",
    "6. [Local navigation](#Partie-5-:-Local-navigation)\n",
    "    - 6.1 : Local obstacle detection\n",
    "    - 6.2 : Potential fields\n",
    "7. [Motion control](#Partie-5-:-Motion-control)\n",
    "    - 7.1 : Differential drive\n",
    "    - 7.2 : P-conntroler\n",
    "8. [Demonstrations](#Partie-5-:-emonstrations)\n",
    "9. [Conclusion](#IConclusion)\n",
    "---\n",
    "\n"
   ]
  },
  {
   "cell_type": "markdown",
   "metadata": {},
   "source": [
    "## Introduction\n",
    "Dans cette section, nous introduisons le sujet et les objectifs de l'analyse.\n",
    "\n",
    "---\n",
    "\n"
   ]
  },
  {
   "cell_type": "markdown",
   "metadata": {},
   "source": [
    "## 1 : Setup\n",
    "\n",
    "### 1.1 : Physical setup\n",
    "\n",
    "```Explication des données utilisées.```\n",
    "\n",
    "```python\n",
    "# Exemple de code pour charger et afficher les données\n",
    "import pandas as pd\n",
    "\n",
    "data = pd.read_csv(\"data.csv\")  # Remplacez par votre fichier\n",
    "data.head()\n"
   ]
  },
  {
   "cell_type": "markdown",
   "metadata": {},
   "source": []
  },
  {
   "cell_type": "markdown",
   "metadata": {},
   "source": [
    "### 1.2 : Code setup"
   ]
  },
  {
   "cell_type": "markdown",
   "metadata": {},
   "source": [
    "## 2 : Initial tuning"
   ]
  },
  {
   "cell_type": "markdown",
   "metadata": {},
   "source": [
    "### 2.1 Wheel speed (differential)"
   ]
  },
  {
   "cell_type": "markdown",
   "metadata": {},
   "source": [
    "## 3: Vision"
   ]
  },
  {
   "cell_type": "markdown",
   "metadata": {},
   "source": []
  },
  {
   "cell_type": "markdown",
   "metadata": {},
   "source": [
    "### 3.1 : Dynamic lighting adaptation"
   ]
  },
  {
   "cell_type": "markdown",
   "metadata": {},
   "source": [
    "### 3.2 : Aruko markers"
   ]
  },
  {
   "cell_type": "markdown",
   "metadata": {},
   "source": [
    "#### 3.2.1 : Thymio and goal"
   ]
  },
  {
   "cell_type": "markdown",
   "metadata": {},
   "source": [
    "### 3.2 : Map resizing"
   ]
  },
  {
   "cell_type": "markdown",
   "metadata": {},
   "source": [
    "## 4 : Kalmann"
   ]
  },
  {
   "cell_type": "markdown",
   "metadata": {},
   "source": [
    "### 4.1 : Theory"
   ]
  },
  {
   "cell_type": "markdown",
   "metadata": {},
   "source": [
    "### 4.2 : Implementation"
   ]
  },
  {
   "cell_type": "markdown",
   "metadata": {},
   "source": [
    "## 5 : Global path planning\n",
    " \n"
   ]
  },
  {
   "cell_type": "markdown",
   "metadata": {},
   "source": [
    "### 5.1 : Dijkstra"
   ]
  },
  {
   "cell_type": "markdown",
   "metadata": {},
   "source": [
    "## 6 : Local navigation"
   ]
  },
  {
   "cell_type": "markdown",
   "metadata": {},
   "source": [
    "### 6.1 : Local obstacle detection"
   ]
  },
  {
   "cell_type": "markdown",
   "metadata": {},
   "source": [
    "### 6.2 : Potential fields"
   ]
  },
  {
   "cell_type": "markdown",
   "metadata": {},
   "source": [
    "## 7 : Motion control"
   ]
  },
  {
   "cell_type": "markdown",
   "metadata": {},
   "source": [
    "### 7.1 : Differential drive"
   ]
  },
  {
   "cell_type": "markdown",
   "metadata": {},
   "source": [
    "### 7.2 : P-conntroler"
   ]
  },
  {
   "cell_type": "markdown",
   "metadata": {},
   "source": [
    "## 8 : Demonstrations"
   ]
  },
  {
   "cell_type": "markdown",
   "metadata": {},
   "source": [
    "---\n",
    "## 9 : Conclusion\n",
    "---\n",
    "\n"
   ]
  },
  {
   "cell_type": "markdown",
   "metadata": {},
   "source": []
  }
 ],
 "metadata": {
  "language_info": {
   "name": "python"
  }
 },
 "nbformat": 4,
 "nbformat_minor": 2
}
